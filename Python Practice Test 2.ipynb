{
 "cells": [
  {
   "cell_type": "raw",
   "id": "277c16ea",
   "metadata": {},
   "source": [
    "Q1. Create a list in python using the followings: 2,3,4,5,6,7 with variable ‘a’\n",
    "\n",
    "Add ‘mango to the above list\n",
    "\n",
    "Also add banana, grapes & orange in the list \n",
    "\n",
    "insert apple in the 5th position of a variable ‘a’\n",
    "\n",
    "Remove last item from the list"
   ]
  },
  {
   "cell_type": "code",
   "execution_count": 2,
   "id": "ca741131",
   "metadata": {},
   "outputs": [
    {
     "name": "stdout",
     "output_type": "stream",
     "text": [
      "[2, 3, 4, 5, 6, 'apple', 7, 'mango', 'banana', 'grapes']\n"
     ]
    }
   ],
   "source": [
    "a=[2,3,4,5,6,7]\n",
    "a.append('mango')\n",
    "a.append('banana')\n",
    "a.append('grapes')\n",
    "a.append('orange')\n",
    "a.insert(5,'apple')\n",
    "a.remove('orange')\n",
    "print(a)"
   ]
  },
  {
   "cell_type": "raw",
   "id": "729da42a",
   "metadata": {},
   "source": [
    "Q2.\n",
    "\n",
    "L = [1,2,3,4,5,6,7]\n",
    "\n",
    "Using the above list slice from 1:4\n",
    "\n"
   ]
  },
  {
   "cell_type": "code",
   "execution_count": 4,
   "id": "78ad6dd3",
   "metadata": {},
   "outputs": [
    {
     "name": "stdout",
     "output_type": "stream",
     "text": [
      "[2, 3, 4]\n"
     ]
    }
   ],
   "source": [
    "L=[1,2,3,4,5,6,7]\n",
    "print(L[1:4])"
   ]
  },
  {
   "cell_type": "raw",
   "id": "bf025a39",
   "metadata": {},
   "source": [
    "Reverse the order of given string L = [4,5,6,8,3] Without using reverse() function.\n"
   ]
  },
  {
   "cell_type": "code",
   "execution_count": 7,
   "id": "2e61a8d5",
   "metadata": {},
   "outputs": [
    {
     "name": "stdout",
     "output_type": "stream",
     "text": [
      "[3, 8, 5, 4]\n"
     ]
    }
   ],
   "source": [
    "L=[4,5,8,3]\n",
    "print(L[::-1])"
   ]
  },
  {
   "cell_type": "raw",
   "id": "66a16e20",
   "metadata": {},
   "source": [
    "Q4. Use list comprehension to square the given list L=[2,4,7,3,6,8]"
   ]
  },
  {
   "cell_type": "code",
   "execution_count": 8,
   "id": "3241d262",
   "metadata": {},
   "outputs": [
    {
     "name": "stdout",
     "output_type": "stream",
     "text": [
      "[4, 16, 49, 9, 36, 64]\n"
     ]
    }
   ],
   "source": [
    "L=[2,4,7,3,6,8]\n",
    "res=[i*i for i in L]\n",
    "print(res)"
   ]
  },
  {
   "cell_type": "raw",
   "id": "e74f8964",
   "metadata": {},
   "source": [
    "Q5. Create a function that takes in a tuple of integers and returns the sum of the integers. Test the\n",
    "function with a tuple of your choice. "
   ]
  },
  {
   "cell_type": "code",
   "execution_count": 10,
   "id": "167fbf3c",
   "metadata": {},
   "outputs": [
    {
     "data": {
      "text/plain": [
       "55"
      ]
     },
     "execution_count": 10,
     "metadata": {},
     "output_type": "execute_result"
    }
   ],
   "source": [
    "def sum(b):\n",
    "    s=0\n",
    "    for i in b:\n",
    "        s=s+i\n",
    "    return s\n",
    "s=(1,2,3,4,5,6,7,8,9,10)\n",
    "sum(s)"
   ]
  },
  {
   "cell_type": "code",
   "execution_count": null,
   "id": "518fb474",
   "metadata": {},
   "outputs": [],
   "source": [
    "Q6. Create two sets of your favourite fruits, and use the union() method to combine them into a single set.\n",
    "Print the resulting set to the console."
   ]
  },
  {
   "cell_type": "code",
   "execution_count": 11,
   "id": "bf1e38ce",
   "metadata": {},
   "outputs": [
    {
     "name": "stdout",
     "output_type": "stream",
     "text": [
      "{'Sweet melon', 'Guava', 'Banana', 'Grapes', 'Orange', 'Dragon fruit', 'Mango'}\n"
     ]
    }
   ],
   "source": [
    "a={'Banana','Orange','Guava','Mango'}\n",
    "b={'Sweet melon','Dragon fruit','Grapes'}\n",
    "print(a.union(b))"
   ]
  },
  {
   "cell_type": "raw",
   "id": "7e37319d",
   "metadata": {},
   "source": [
    "Q7. Create a set of random words, and use the add() method to add a new word to the set. Print the\n",
    "resulting set to the console."
   ]
  },
  {
   "cell_type": "code",
   "execution_count": 14,
   "id": "2a28ee9f",
   "metadata": {},
   "outputs": [
    {
     "name": "stdout",
     "output_type": "stream",
     "text": [
      "{'Shanthan', 'Asif', 'Sai Kuladeep', 'Sai Tharun', 'Shreyas'}\n"
     ]
    }
   ],
   "source": [
    "b={'Sai Kuladeep','Shanthan','Asif','Sai Tharun'}\n",
    "b.add('Shreyas')\n",
    "print(b)"
   ]
  },
  {
   "cell_type": "raw",
   "id": "8538c668",
   "metadata": {},
   "source": [
    "Q8. Create a set of your favourite animals, and use the remove() method to remove one animal from the\n",
    "set. Print the resulting set to the console."
   ]
  },
  {
   "cell_type": "code",
   "execution_count": 16,
   "id": "9513c784",
   "metadata": {},
   "outputs": [
    {
     "name": "stdout",
     "output_type": "stream",
     "text": [
      "{'Dog', 'Cow', 'Rabbit', 'Horse'}\n"
     ]
    }
   ],
   "source": [
    "b={'Dog','Cow','Horse','Rabbit','Cat'}\n",
    "b.remove('Cat')\n",
    "print(b)"
   ]
  },
  {
   "cell_type": "raw",
   "id": "f9301318",
   "metadata": {},
   "source": [
    "Q9. favorite_books = {\"1984\", \"To Kill a Mockingbird\", \"Pride and Prejudice\"}\n",
    "\n",
    "favorite_movies = [\"The Shawshank Redemption\", \"The Godfather\", \"The Dark Knight\"]\n",
    "\n",
    "Use the zip() function to combine the book set and movie list into a list of tuples representing book/ \n",
    "\n",
    "movie pairs. Print the resulting list."
   ]
  },
  {
   "cell_type": "code",
   "execution_count": 20,
   "id": "9cae67c1",
   "metadata": {},
   "outputs": [
    {
     "name": "stdout",
     "output_type": "stream",
     "text": [
      "[('1984', 'The shawshank Redemption'), ('Pride and Prejudice', 'The Godfather'), ('To killa Mockingbird', 'The Dark Knight')]\n"
     ]
    }
   ],
   "source": [
    "favourite_books={\"1984\",\"To killa Mockingbird\",'Pride and Prejudice'}\n",
    "favourite_movies=['The shawshank Redemption','The Godfather','The Dark Knight']\n",
    "zipped=zip(list(favourite_books),favourite_movies)\n",
    "print(list(zipped))"
   ]
  },
  {
   "cell_type": "raw",
   "id": "48682912",
   "metadata": {},
   "source": [
    "# Q10. Write a Python program to find the difference between consecutive numbers in a list."
   ]
  },
  {
   "cell_type": "code",
   "execution_count": 23,
   "id": "2ffc53b1",
   "metadata": {},
   "outputs": [
    {
     "name": "stdout",
     "output_type": "stream",
     "text": [
      "[4, 3, 6, 4]\n"
     ]
    }
   ],
   "source": [
    "a=[5, 9, 12, 18, 22]\n",
    "b=[]\n",
    "for i in range(len(a)):\n",
    "    if(i!=len(a)-1):\n",
    "        b.append(a[i+1]-a[i])\n",
    "print(b)"
   ]
  },
  {
   "cell_type": "code",
   "execution_count": null,
   "id": "4cc4d483",
   "metadata": {},
   "outputs": [],
   "source": []
  }
 ],
 "metadata": {
  "kernelspec": {
   "display_name": "Python 3 (ipykernel)",
   "language": "python",
   "name": "python3"
  },
  "language_info": {
   "codemirror_mode": {
    "name": "ipython",
    "version": 3
   },
   "file_extension": ".py",
   "mimetype": "text/x-python",
   "name": "python",
   "nbconvert_exporter": "python",
   "pygments_lexer": "ipython3",
   "version": "3.11.4"
  }
 },
 "nbformat": 4,
 "nbformat_minor": 5
}
