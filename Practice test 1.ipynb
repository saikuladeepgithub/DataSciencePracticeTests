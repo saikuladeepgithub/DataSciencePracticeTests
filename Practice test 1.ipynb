{
 "cells": [
  {
   "cell_type": "code",
   "execution_count": 1,
   "id": "393b970c",
   "metadata": {
    "scrolled": true
   },
   "outputs": [
    {
     "name": "stdout",
     "output_type": "stream",
     "text": [
      "11\n"
     ]
    }
   ],
   "source": [
    "def add_sum(a,b):\n",
    "    sum=a+b\n",
    "    return sum\n",
    "print(add_sum(5,6))"
   ]
  },
  {
   "cell_type": "code",
   "execution_count": 2,
   "id": "9cd5e911",
   "metadata": {},
   "outputs": [
    {
     "name": "stdout",
     "output_type": "stream",
     "text": [
      "25.0\n"
     ]
    }
   ],
   "source": [
    "import math\n",
    "def squareroot(a):\n",
    "    return (math.sqrt(a))\n",
    "print(squareroot(625))"
   ]
  },
  {
   "cell_type": "code",
   "execution_count": 3,
   "id": "994b9434",
   "metadata": {},
   "outputs": [
    {
     "name": "stdout",
     "output_type": "stream",
     "text": [
      "2\n",
      "3\n",
      "5\n",
      "7\n",
      "11\n",
      "13\n",
      "17\n",
      "19\n",
      "23\n",
      "29\n",
      "31\n",
      "37\n",
      "41\n",
      "43\n",
      "47\n"
     ]
    }
   ],
   "source": [
    "for i in range(2,51):\n",
    "    for j in range(2,i):\n",
    "        if(i%j==0):\n",
    "            break\n",
    "    else:\n",
    "        print(i)\n",
    "        \n",
    "            "
   ]
  },
  {
   "cell_type": "code",
   "execution_count": 4,
   "id": "49f0ecb4",
   "metadata": {},
   "outputs": [
    {
     "name": "stdout",
     "output_type": "stream",
     "text": [
      "9 5 8\n"
     ]
    },
    {
     "data": {
      "text/plain": [
       "1"
      ]
     },
     "execution_count": 4,
     "metadata": {},
     "output_type": "execute_result"
    }
   ],
   "source": [
    "a=5\n",
    "b=8\n",
    "c=9\n",
    "def swapping(a,b,c):\n",
    "    lis=[a,b,c]\n",
    "    a=lis[2]\n",
    "    b=lis[0]\n",
    "    c=lis[1]\n",
    "    print(a,b,c)\n",
    "    return 1\n",
    "(swapping(a,b,c))"
   ]
  },
  {
   "cell_type": "code",
   "execution_count": 1,
   "id": "551d3adc",
   "metadata": {},
   "outputs": [
    {
     "name": "stdout",
     "output_type": "stream",
     "text": [
      "Enter an integer : 1\n",
      "The given number is positive integer \n"
     ]
    }
   ],
   "source": [
    "b=int(input(\"Enter an integer : \"))\n",
    "if(b>0):\n",
    "    print(\"The given number is positive integer \")\n",
    "elif(b==0):\n",
    "    print(\"The given number is zero\")\n",
    "elif(b<0):\n",
    "    print(\"The given number is negative\")"
   ]
  },
  {
   "cell_type": "code",
   "execution_count": null,
   "id": "f7cdb145",
   "metadata": {},
   "outputs": [],
   "source": [
    "b=76543\n",
    "s=0\n",
    "for i in str(b):\n",
    "    s=s+int(i)\n",
    "print(s)"
   ]
  },
  {
   "cell_type": "raw",
   "id": "655d0fb1",
   "metadata": {},
   "source": [
    "Q8.Write a program for reversing the given number 5436 and the output should be 6345.\n",
    "\n"
   ]
  },
  {
   "cell_type": "code",
   "execution_count": null,
   "id": "5351fa10",
   "metadata": {},
   "outputs": [],
   "source": [
    "a=5436\n",
    "print(str(a)[::-1])"
   ]
  },
  {
   "cell_type": "code",
   "execution_count": 7,
   "id": "1ab45c78",
   "metadata": {},
   "outputs": [
    {
     "name": "stdout",
     "output_type": "stream",
     "text": [
      "1\n",
      "2\n",
      "3\n",
      "4\n",
      "5\n",
      "6\n",
      "7\n",
      "8\n",
      "9\n",
      "153\n"
     ]
    }
   ],
   "source": [
    "b=200\n",
    "i=1\n",
    "while(i<=b):\n",
    "    temp=i\n",
    "    s=0\n",
    "    l=len(str(i))\n",
    "    while(temp!=0):\n",
    "        dig=temp%10\n",
    "        s=s+dig**l\n",
    "        temp=temp//10\n",
    "    if(s==i):\n",
    "        print(i)\n",
    "    i=i+1"
   ]
  },
  {
   "cell_type": "code",
   "execution_count": 6,
   "id": "a3f9cd32",
   "metadata": {},
   "outputs": [
    {
     "name": "stdout",
     "output_type": "stream",
     "text": [
      "1\n",
      "2\n",
      "3\n",
      "4\n",
      "5\n",
      "6\n",
      "7\n",
      "8\n",
      "9\n",
      "153\n"
     ]
    }
   ],
   "source": [
    "b = 200\n",
    "i = 1\n",
    "while i <= b:\n",
    "    temp = i\n",
    "    s = 0\n",
    "    l = len(str(i))\n",
    "    while temp != 0:\n",
    "        dig = temp % 10\n",
    "        s = s + dig ** l\n",
    "        temp = temp // 10\n",
    "    if s == i:\n",
    "        print(i)\n",
    "    i = i + 1\n"
   ]
  },
  {
   "cell_type": "raw",
   "id": "47b41aee",
   "metadata": {},
   "source": [
    "Q10.Write a program the given year is 1996, a leap year."
   ]
  },
  {
   "cell_type": "code",
   "execution_count": 11,
   "id": "83684b94",
   "metadata": {},
   "outputs": [
    {
     "name": "stdout",
     "output_type": "stream",
     "text": [
      "It is leap year\n"
     ]
    }
   ],
   "source": [
    "b=2024\n",
    "if(b%4==0 and b%100!=0):\n",
    "    print(\"It is leap year\")\n",
    "elif(b%400==0):\n",
    "    print('It is leap year')\n",
    "else:\n",
    "    print(\"It is general year\")"
   ]
  },
  {
   "cell_type": "code",
   "execution_count": null,
   "id": "40850b2d",
   "metadata": {},
   "outputs": [],
   "source": []
  }
 ],
 "metadata": {
  "kernelspec": {
   "display_name": "Python 3 (ipykernel)",
   "language": "python",
   "name": "python3"
  },
  "language_info": {
   "codemirror_mode": {
    "name": "ipython",
    "version": 3
   },
   "file_extension": ".py",
   "mimetype": "text/x-python",
   "name": "python",
   "nbconvert_exporter": "python",
   "pygments_lexer": "ipython3",
   "version": "3.11.4"
  }
 },
 "nbformat": 4,
 "nbformat_minor": 5
}
